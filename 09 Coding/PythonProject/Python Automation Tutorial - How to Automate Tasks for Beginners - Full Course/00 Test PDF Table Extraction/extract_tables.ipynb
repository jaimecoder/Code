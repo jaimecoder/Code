{
 "cells": [
  {
   "cell_type": "code",
   "execution_count": 8,
   "id": "b7f73c90",
   "metadata": {},
   "outputs": [],
   "source": [
    "import camelot as cm"
   ]
  },
  {
   "cell_type": "code",
   "execution_count": 4,
   "id": "83af98ce",
   "metadata": {},
   "outputs": [
    {
     "name": "stdout",
     "output_type": "stream",
     "text": [
      " Volume in drive C is Windows\n",
      " Volume Serial Number is BA2A-17BA\n",
      "\n",
      " Directory of C:\\Users\\Jaime\\Google Drive\\Hobbies\\09 Coding\\PythonProject\\Python Automation Tutorial - How to Automate Tasks for Beginners - Full Course\\00 Test PDF Table Extraction\n",
      "\n",
      "10/22/2022  09:18 PM    <DIR>          .\n",
      "10/22/2022  09:18 PM    <DIR>          ..\n",
      "10/22/2022  09:18 PM    <DIR>          .ipynb_checkpoints\n",
      "09/25/2022  03:08 AM             3,693 extract_tables.ipynb\n",
      "09/25/2022  02:40 AM            80,874 Pag_48-49.pdf\n",
      "               2 File(s)         84,567 bytes\n",
      "               3 Dir(s)  71,177,711,616 bytes free\n"
     ]
    }
   ],
   "source": [
    "! dir"
   ]
  },
  {
   "cell_type": "code",
   "execution_count": 9,
   "id": "4e604fa9",
   "metadata": {},
   "outputs": [
    {
     "ename": "AttributeError",
     "evalue": "module 'camelot' has no attribute 'read_pdf'",
     "output_type": "error",
     "traceback": [
      "\u001b[1;31m---------------------------------------------------------------------------\u001b[0m",
      "\u001b[1;31mAttributeError\u001b[0m                            Traceback (most recent call last)",
      "Cell \u001b[1;32mIn [9], line 1\u001b[0m\n\u001b[1;32m----> 1\u001b[0m input_pdf \u001b[38;5;241m=\u001b[39m \u001b[43mcm\u001b[49m\u001b[38;5;241;43m.\u001b[39;49m\u001b[43mread_pdf\u001b[49m(\u001b[38;5;124m\"\u001b[39m\u001b[38;5;124mPag_48-49.pdf\u001b[39m\u001b[38;5;124m\"\u001b[39m, flavor\u001b[38;5;241m=\u001b[39m\u001b[38;5;124m'\u001b[39m\u001b[38;5;124mlattice\u001b[39m\u001b[38;5;124m'\u001b[39m, pages\u001b[38;5;241m=\u001b[39m\u001b[38;5;124m'\u001b[39m\u001b[38;5;124m1,2\u001b[39m\u001b[38;5;124m'\u001b[39m)\n",
      "\u001b[1;31mAttributeError\u001b[0m: module 'camelot' has no attribute 'read_pdf'"
     ]
    }
   ],
   "source": [
    "input_pdf = cm.read_pdf(\"Pag_48-49.pdf\", flavor='lattice', pages='1,2')\n"
   ]
  },
  {
   "cell_type": "code",
   "execution_count": null,
   "id": "b98fb1cf",
   "metadata": {},
   "outputs": [],
   "source": []
  }
 ],
 "metadata": {
  "kernelspec": {
   "display_name": "Python 3 (ipykernel)",
   "language": "python",
   "name": "python3"
  },
  "language_info": {
   "codemirror_mode": {
    "name": "ipython",
    "version": 3
   },
   "file_extension": ".py",
   "mimetype": "text/x-python",
   "name": "python",
   "nbconvert_exporter": "python",
   "pygments_lexer": "ipython3",
   "version": "3.10.6"
  }
 },
 "nbformat": 4,
 "nbformat_minor": 5
}
